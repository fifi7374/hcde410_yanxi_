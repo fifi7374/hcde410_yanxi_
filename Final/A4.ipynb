{
 "cells": [
  {
   "cell_type": "markdown",
   "id": "ad54f976-4dbf-40af-8142-e49062b9bd16",
   "metadata": {},
   "source": [
    "**Project Proposal: Analyze traffic accident death rate with population in Washington State**"
   ]
  },
  {
   "cell_type": "markdown",
   "id": "1d8eb6f8-4b62-4cc9-be30-101bb99ec712",
   "metadata": {},
   "source": [
    "***Motivation and Problem Statement***"
   ]
  },
  {
   "cell_type": "markdown",
   "id": "1fd38b31-f874-4479-8290-11deb478ef19",
   "metadata": {},
   "source": [
    "I’m interested in researching the relationship between traffic accident death rates and population in Washington State. Traffic accidents are a big safe issue, and understanding how population factors into accident rates could give helpful insights for city planning, resource allocation, and public safety. By focusing on Washington, this project can also be more specific and manageable, while still providing insights that might apply to other states."
   ]
  },
  {
   "cell_type": "markdown",
   "id": "b30ad014-cf37-4ea5-a567-f93f14339550",
   "metadata": {},
   "source": [
    "I’m planning to dive deeper into the relationship between population and traffic accident rates in different regions of Washington State. Beyond just understanding how population size and density relate to accidents, I want to investigate other factors that might influence these rates, such as driver demographics (age, race), alcohol involvement, and the timing of accidents. This project aims to uncover patterns in these factors to guide targeted safety interventions in high-risk areas."
   ]
  },
  {
   "cell_type": "markdown",
   "id": "7dfba638-cf39-407c-9095-d68c2afed170",
   "metadata": {},
   "source": [
    "***Main research questions:***"
   ]
  },
  {
   "cell_type": "markdown",
   "id": "375edc7c-f60a-489e-8721-d347715bd391",
   "metadata": {},
   "source": [
    "How does population density relate to traffic accident rates across different regions in Washington State?\r\n",
    "\n",
    "Which factors, such as teenage drivers or alcohol use, are most associated with higher accident rates?\n",
    "\r\n",
    "Do certain races experience higher accident involvement, and what might contribute to these disparities\n",
    "?\r\n",
    "Are there specific times (seasonal, time of day) when accidents are more frequen\n",
    "t?\r\n",
    "By exploring these questions, I hope to identify key risk factors for accidents in Washington State and highlight areas where public safety measures could have the most impact."
   ]
  },
  {
   "cell_type": "markdown",
   "id": "56ba0288-76f3-4e3f-810a-ce890a2e6a3a",
   "metadata": {},
   "source": [
    "***Background and Related Work:***"
   ]
  },
  {
   "cell_type": "markdown",
   "id": "9c46853f-fee9-408a-a0ee-f51b7a54f4dd",
   "metadata": {},
   "source": [
    "I did some studies have show that high population density areas often have more traffic accidents, but findings suggest other factors, like age and substance use, play significant roles. For example, studies from the National highway traffic safety administration website have show how young, inexperienced drivers and alcohol are common accidents maker. The Insurance institute for highway safety has also documented racial disparities in accident rates, which may be tied to factors like socity status and vehicle type."
   ]
  },
  {
   "cell_type": "markdown",
   "id": "4ccafee3-377c-4b18-9f82-c4d88c587260",
   "metadata": {},
   "source": [
    "For these background I will choose driver age, alcohol, race, and timing in accident rates. Focusing on these will help determine if specific groups or times are linked to higher risk, making it easier to recommend targeted public safety improvements."
   ]
  },
  {
   "cell_type": "markdown",
   "id": "f8e3a915-d29a-45fb-b3f3-b9d00bfbd933",
   "metadata": {},
   "source": [
    "***Data for Analysis***"
   ]
  },
  {
   "cell_type": "markdown",
   "id": "db7133b0-4763-4093-9e73-8c15b4476fe9",
   "metadata": {},
   "source": [
    "For this project, I’ll use two datasets:\n",
    "\n",
    "*Traffic Accident data*: From the National Highway Traffic Safety Administration Fatality Analysis Reporting System. This dataset provides data on traffic accidents across the U.S., including Washington State\r\n",
    "\n",
    "Dataset link https://www.nhtsa.gov/research-data/fatality-analysis-reporting-system-farsA\n",
    "\r\n",
    "License: Publicly available under government open data policie\n",
    "\n",
    "\n",
    "*Population Data*: From the US Census Bureau. These datasets have annual population estimates by county.\n",
    "\r\n",
    "Dataset link:https://www.census.gov/s\n",
    "\r\n",
    "License: Publicly available under open data policie\n",
    "s.\r\n",
    "These datasets are a good fit because they cover both accident data and population, which is essential for calculating accident rates based on population size. The data is current and includes cou ty-specific info, so I can focus on different regions within Washington.s."
   ]
  },
  {
   "cell_type": "markdown",
   "id": "6f4844d9-0e05-4e7a-8ce4-5e7d0b1bd609",
   "metadata": {},
   "source": [
    "***Analysis Methods:***"
   ]
  },
  {
   "cell_type": "markdown",
   "id": "78b073bb-bae5-4375-b628-b7acda91b6e9",
   "metadata": {},
   "source": [
    "Data Statistics: \n",
    "1. Calculate accident rates per 100,000 people for each county and region in Washington State. \n",
    "\n",
    "2. The strength of the relationship between population density and accident rates, while controlling for factors like age, alcohol involvement, race, and timing.\n",
    "\n",
    "3. Identify high-risk regions and times by grouping accidents based on demographic and situational factors.\n",
    "\n",
    "4. Compare accident rates and demographics to highlight any patterns or disparities."
   ]
  },
  {
   "cell_type": "markdown",
   "id": "626b9d57-f532-45ec-9be0-df387f932589",
   "metadata": {},
   "source": [
    "***Presentation Methods:***"
   ]
  },
  {
   "cell_type": "markdown",
   "id": "61fe69f5-f1e4-4fb4-94d1-ee89ed4bbedc",
   "metadata": {},
   "source": [
    "Data Visualizations: Bar charts to show accident rates per region and per factor line graphs for trends over time\r\n",
    "\r\n",
    "Tables and Summaries: Summarize findings on demographic risk factors"
   ]
  },
  {
   "cell_type": "markdown",
   "id": "ba3e6b3c-2364-4ceb-9ff5-2f563dee62a8",
   "metadata": {},
   "source": [
    "***Unknowns and Dependencies***\n",
    "\n",
    "\r\n",
    "Data Completeness: Ensuring the data covers the factors accurately \r\n",
    "Timing of Data: Matching yearly accident data with accurate population data for consistency.\r\n",
    "External Factors: There may be other relevant factors, like weather conditions or road types, that aren't covered here but could impact accident rates. After receiving feedback from classmates, I’ll also consider looking into these aspects if time and data allow."
   ]
  }
 ],
 "metadata": {
  "kernelspec": {
   "display_name": "Python 3 (ipykernel)",
   "language": "python",
   "name": "python3"
  },
  "language_info": {
   "codemirror_mode": {
    "name": "ipython",
    "version": 3
   },
   "file_extension": ".py",
   "mimetype": "text/x-python",
   "name": "python",
   "nbconvert_exporter": "python",
   "pygments_lexer": "ipython3",
   "version": "3.10.13"
  }
 },
 "nbformat": 4,
 "nbformat_minor": 5
}
